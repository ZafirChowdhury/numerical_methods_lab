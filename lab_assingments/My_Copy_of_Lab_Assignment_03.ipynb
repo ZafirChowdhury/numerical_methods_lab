{
  "cells": [
    {
      "cell_type": "markdown",
      "metadata": {
        "id": "fbQRB6qbcK25"
      },
      "source": [
        "<a href=\"https://colab.research.google.com/github/mirsazzathossain/CSE317-Lab/blob/autumn_2022/Lab_Assignment_03.ipynb\" target=\"_parent\"><img src=\"https://colab.research.google.com/assets/colab-badge.svg\" alt=\"Open In Colab\"/></a>"
      ]
    },
    {
      "cell_type": "markdown",
      "metadata": {
        "id": "gk_GKv0vcK26"
      },
      "source": [
        "#### **Wheat Seed Classification**\n",
        "\n",
        "In this assignment, you will use the [Wheat Seed Dataset](https://archive.ics.uci.edu/ml/datasets/seeds) to classify the type of wheat seed based on the measurements of the seed. The dataset contains 7 attributes and 210 instances. The attributes are:\n",
        "\n",
        "1. Area\n",
        "2. Perimeter\n",
        "3. Compactness\n",
        "4. Length of Kernel\n",
        "5. Width of Kernel\n",
        "6. Asymmetry Coefficient\n",
        "7. Length of Kernel Groove\n",
        "\n",
        "Based on the attributes, the dataset contains 3 classes:\n",
        "\n",
        "1. Kama\n",
        "2. Rosa\n",
        "3. Canadian\n",
        "\n",
        "The text file `seeds_dataset.txt` contains the dataset. The first 7 columns are the attributes and the last column is the class label. The class labels are encoded as  1, 2, and 3 for Kama, Rosa, and Canadian, respectively. The goal of this assignment is to build a classifier that can predict the type of wheat seed based on the measurements of the seed. Follow the instructions below to complete the assignment."
      ]
    },
    {
      "cell_type": "markdown",
      "metadata": {
        "id": "Q3ALibJBcK28"
      },
      "source": [
        "#### **Instructions**\n",
        "\n",
        "1. Download the dataset from [Github](https://minhaskamal.github.io/DownGit/#/home?url=https://github.com/mirsazzathossain/CSE317-Lab-Numerical-Methods/blob/main/datasets/seeds_dataset.txt). It should be saved as `seeds_dataset.txt`.\n",
        "2. Upload the dataset to your Google Drive and mount your Google Drive to Colab.\n",
        "3. Read the dataset using numpy's built-in function `np.genfromtxt()`. Pass the following parameters to the function:\n",
        "    - `fname`: The path to the dataset\n",
        "    - `delimiter`: The delimiter used in the dataset to separate the attributes (Hint: Use `'\\t'` as the delimiter)\n",
        "    \n",
        "4. Shuffle the dataset using `np.random.shuffle()`. Pass the following parameters to the function:\n",
        "    - `x`: The dataset\n",
        "5. Split the dataset into features and labels. The first 7 columns of the dataset are the features and the last column is the label. Use numpy's array slicing to split the dataset into features and labels. (Hint: Use `:` to select all the rows and `0:7` to select the first 7 columns for features and `7` to select the last column for labels)\n",
        "6. Split the dataset into training and testing sets. Use numpy's built-in function `np.split()` to split the dataset into training and testing sets. Pass the following parameters to the function:\n",
        "    - `ary`: The dataset\n",
        "    - `indices_or_sections`: The number of instances in the training set (Hint: Use `int(0.8 * len(dataset))` to get the number of instances in the training set)\n",
        "    - `axis`: The axis to split the dataset (Hint: Use `0` to split the dataset along the rows)\n",
        "7. Find the minimum and maximum values of each feature in the training set. Use numpy's built-in function `np.min()` and `np.max()` to find the minimum and maximum values of each feature in the training set. Pass the following parameters to the function:\n",
        "    - `a`: The training set\n",
        "    - `axis`: The axis to find the minimum and maximum values (Hint: Use `0` to find the minimum and maximum values along the columns)\n",
        "8. In this step, you must normalize the training and test sets. Nomalization is an essential part of every machine learning project. It is used to bring all the features to the same scale. If the features are not normalized, the higher-valued features will outnumber the lower-valued ones.\n",
        "\n",
        "    For example, suppose we have a dataset with two features: the number of bedrooms in a house and the size of the garden in square feet and we are trying to forecast the rent of the residence. If the features are not normalized, the feature with higher values will take precedence over the feature with lower values. In this scenario, the garden area has a greater value. As a result, the model will make an attempt to forecast the house's price depending on the size of the garden. As a consequence, the model will be faulty since most individuals will not pay higher rent for more garden area. We need to normalize the features in order to prevent this. Let's look at the following illustration to better comprehend what we have said:\n",
        "    \n",
        "    - House 1: 2 bedrooms, 2500 sq. ft. garden\n",
        "    - House 2: 3 bedrooms, 500 sq. ft. garden\n",
        "    - House 3: 7 bedrooms, 2300 sq. ft. garden\n",
        "\n",
        "    Considering that most people won't pay more for a larger garden, it follows that the rent for House 1 should be more comparable to House 2 than to House 3. However, if we give the aforementioned data to a k-NN classifier without normalization, it will compute the euclidean distance between the test and training examples and pick the class of the test instance based on the class of the closest training instance.\n",
        "\n",
        "    The euclidean distance between the test instance and the training instances will be:\n",
        "\n",
        "    - Distance between house 1 and house 2: $\\sqrt{(2-3)^2 + (2500-500)^2} = 2000$\n",
        "    - Distance between house 1 and house 3: $\\sqrt{(2-7)^2 + (2500-2300)^2} = 200$\n",
        "\n",
        "    As you can see, the distance between houses 1 and 3 is shorter than that between houses 1 and 2. As a result, the model will forecast that house 1 will cost around the same as house 3. This is not what was anticipated. We need to normalize the features in order to prevent this. To normalize the features, subtract the minimum value of each feature from all the values of that feature and divide the result by the range of the feature. The range of a feature is the difference between the maximum and minimum values of that feature. The formula for normalization is given below:\n",
        "\n",
        "    $$x_{normalized} = \\frac{x - min(x)}{max(x) - min(x)}$$\n",
        "\n",
        "    where $x$ is the feature vector. The above formula will normalize the features to a scale of 0 to 1.\n",
        "\n",
        "    Let's normalize the features in the above example. To do so, we need to find the minimum and maximum values of each feature. The minimum and maximum values of the number of bedrooms are 2 and 7, respectively. The minimum and maximum values of the garden area are 500 and 2500, respectively. The normalized values of the features are given below:\n",
        "\n",
        "    - House 1: $(2 - 2) / 5 = 0$ bedrooms, $(2500 - 500) / 2000 = 0.75$ sq. ft. garden\n",
        "    - House 2: $(3 - 2) / 5 = 0.2$ bedrooms, $(500 - 500) / 2000 = 0$ sq. ft. garden\n",
        "    - House 3: $(7 - 2) / 5 = 1$ bedrooms, $(2300 - 500) / 2000 = 0.85$ sq. ft. garden\n",
        "\n",
        "    Now, the euclidean distance between the test instance and the training instances will be:\n",
        "\n",
        "    - Distance between house 1 and house 2: $\\sqrt{(0-0.2)^2 + (0.75-0)^2} = 0.77$\n",
        "    - Distance between house 1 and house 3: $\\sqrt{(0-1)^2 + (0.75-0.9)^2} = 1.11$\n",
        "\n",
        "    As you can see now, the distance between houses 1 and 2 is shorter than that between houses 1 and 3. The model will thus forecast that house 1 will cost about the same as house 2, according to the prediction. This is what is anticipated. This is what normalization does. It equalizes the scale of all features. This is important because it prevents the features with higher values from dominating the features with lower values.\n",
        "\n",
        "    Use the minimum and maximum values you found in the previous step to normalize the training and test sets.\n",
        "9. Now, you have to build a classifier to classify the type of wheat seed based on the measurements of the seed. Use the K-Nearest Neighbors algorithm to build the classifier. Use the Euclidean distance to find the nearest neighbors.\n",
        "\n",
        "10. Output the number of data points in the testing set and the number of correct predictions made by the classifier for each class."
      ]
    },
    {
      "cell_type": "code",
      "source": [
        "from google.colab import drive\n",
        "drive.mount('/content/drive')"
      ],
      "metadata": {
        "id": "cjZQkz8zdHrq",
        "outputId": "e1e26d55-322b-4914-ab9b-8149f026b1e7",
        "colab": {
          "base_uri": "https://localhost:8080/"
        }
      },
      "execution_count": 4,
      "outputs": [
        {
          "output_type": "stream",
          "name": "stdout",
          "text": [
            "Drive already mounted at /content/drive; to attempt to forcibly remount, call drive.mount(\"/content/drive\", force_remount=True).\n"
          ]
        }
      ]
    },
    {
      "cell_type": "code",
      "source": [
        "# Imports\n",
        "import numpy as np"
      ],
      "metadata": {
        "id": "_l5Jeebieoyg"
      },
      "execution_count": 5,
      "outputs": []
    },
    {
      "cell_type": "code",
      "source": [
        "dataset_path = '/content/drive/MyDrive/seeds_dataset.txt'\n",
        "\n",
        "# Read the dataset\n",
        "dataset = np.genfromtxt(fname=dataset_path, delimiter='\\t')\n",
        "\n",
        "# Shuffle the dataset\n",
        "np.random.shuffle(dataset)\n",
        "\n",
        "# Split the dataset into features and labels\n",
        "features = dataset[:, 0:7]\n",
        "labels = dataset[:, 7]\n",
        "\n",
        "# Split the dataset into training and testing sets\n",
        "train_size = int(0.8 * len(dataset))\n",
        "train_features, test_features = np.split(features, [train_size], axis=0)\n",
        "train_labels, test_labels = np.split(labels, [train_size], axis=0)\n",
        "\n",
        "print(\"Training features shape:\", train_features.shape)\n",
        "print(\"Testing features shape:\", test_features.shape)\n",
        "print(\"Training labels shape:\", train_labels.shape)\n",
        "print(\"Testing labels shape:\", test_labels.shape)"
      ],
      "metadata": {
        "colab": {
          "base_uri": "https://localhost:8080/"
        },
        "id": "1hD1dmQDeZe1",
        "outputId": "1d998ebb-f6ed-452b-d343-5e6a558c82b8"
      },
      "execution_count": 9,
      "outputs": [
        {
          "output_type": "stream",
          "name": "stdout",
          "text": [
            "Training features shape: (168, 7)\n",
            "Testing features shape: (42, 7)\n",
            "Training labels shape: (168,)\n",
            "Testing labels shape: (42,)\n"
          ]
        }
      ]
    },
    {
      "cell_type": "code",
      "source": [
        "# Find the minimum and maximum values of each feature in the training set\n",
        "min_features = np.min(train_features, axis=0)\n",
        "max_features = np.max(train_features, axis=0)\n",
        "\n",
        "print(\"Minimum values of training features:\", min_features)\n",
        "print(\"Maximum values of training features:\", max_features)"
      ],
      "metadata": {
        "colab": {
          "base_uri": "https://localhost:8080/"
        },
        "id": "BwKTJ1Hue2Ee",
        "outputId": "7e5bfbcb-06f8-4110-87f5-b43f7a116809"
      },
      "execution_count": 10,
      "outputs": [
        {
          "output_type": "stream",
          "name": "stdout",
          "text": [
            "Minimum values of training features: [10.59   12.41    0.8081  4.899   2.63    0.8551  4.519 ]\n",
            "Maximum values of training features: [21.18   17.25    0.9183  6.675   4.033   8.315   6.55  ]\n"
          ]
        }
      ]
    },
    {
      "cell_type": "code",
      "source": [
        "# Normalize the training and testing sets\n",
        "normalized_train_features = (train_features - min_features) / (max_features - min_features)\n",
        "normalized_test_features = (test_features - min_features) / (max_features - min_features)\n",
        "\n",
        "print(\"Normalized training features (first 5 rows):\\n\", normalized_train_features[:5])\n",
        "print(\"Normalized testing features (first 5 rows):\\n\", normalized_test_features[:5])"
      ],
      "metadata": {
        "colab": {
          "base_uri": "https://localhost:8080/"
        },
        "id": "3UExKlhzfDRO",
        "outputId": "070c9609-b9bd-48f2-bd76-aeea1b48c9df"
      },
      "execution_count": 11,
      "outputs": [
        {
          "output_type": "stream",
          "name": "stdout",
          "text": [
            "Normalized training features (first 5 rows):\n",
            " [[0.80830973 0.83471074 0.73411978 0.75788288 0.84461867 0.29878417\n",
            "  0.82028557]\n",
            " [0.78281398 0.79545455 0.80580762 0.66722973 0.808268   0.10642234\n",
            "  0.78286558]\n",
            " [0.74032106 0.73553719 0.90381125 0.60867117 0.81325731 0.28537916\n",
            "  0.68242245]\n",
            " [0.20679887 0.23966942 0.57622505 0.20439189 0.28225232 0.04301666\n",
            "  0.12949286]\n",
            " [0.05193579 0.0785124  0.43284936 0.06306306 0.11689237 0.74168555\n",
            "  0.26095519]]\n",
            "Normalized testing features (first 5 rows):\n",
            " [[0.59017941 0.67355372 0.49183303 0.61880631 0.60869565 0.5120578\n",
            "  0.66863614]\n",
            " [0.21718602 0.28099174 0.41742287 0.33558559 0.28225232 0.71447338\n",
            "  0.39241753]\n",
            " [0.52880076 0.56818182 0.6969147  0.5259009  0.56379187 0.006421\n",
            "  0.38798621]\n",
            " [0.52219075 0.53512397 0.83393829 0.45608108 0.60940841 0.18966742\n",
            "  0.4549483 ]\n",
            " [0.41737488 0.48553719 0.52268603 0.50112613 0.4383464  0.12545745\n",
            "  0.23732152]]\n"
          ]
        }
      ]
    },
    {
      "cell_type": "code",
      "source": [
        "def euclidean_distance(point1, point2):\n",
        "    \"\"\"Calculates the Euclidean distance between two points.\"\"\"\n",
        "    return np.sqrt(np.sum((point1 - point2)**2))\n",
        "\n",
        "def predict_knn(train_features, train_labels, test_point, k):\n",
        "    \"\"\"Predicts the class of a test point using K-Nearest Neighbors.\"\"\"\n",
        "    distances = []\n",
        "    for i in range(len(train_features)):\n",
        "        dist = euclidean_distance(test_point, train_features[i])\n",
        "        distances.append((dist, train_labels[i]))\n",
        "\n",
        "    # Sort distances and get the k nearest neighbors\n",
        "    distances.sort(key=lambda x: x[0])\n",
        "    k_nearest_neighbors = distances[:k]\n",
        "\n",
        "    # Get the labels of the k nearest neighbors\n",
        "    neighbor_labels = [neighbor[1] for neighbor in k_nearest_neighbors]\n",
        "\n",
        "    # Count the occurrences of each class label\n",
        "    label_counts = {}\n",
        "    for label in neighbor_labels:\n",
        "        label_counts[label] = label_counts.get(label, 0) + 1\n",
        "\n",
        "    # Return the most frequent label\n",
        "    predicted_label = max(label_counts, key=label_counts.get)\n",
        "    return predicted_label\n",
        "\n",
        "# Set the value of k\n",
        "k = 5 # You can experiment with different values of k\n",
        "\n",
        "# Make predictions on the test set\n",
        "predictions = []\n",
        "for test_point in normalized_test_features:\n",
        "    prediction = predict_knn(normalized_train_features, train_labels, test_point, k)\n",
        "    predictions.append(prediction)\n",
        "\n",
        "# Evaluate the classifier\n",
        "test_data_points_per_class = {}\n",
        "correct_predictions_per_class = {}\n",
        "\n",
        "for i in range(len(test_labels)):\n",
        "    true_label = int(test_labels[i])\n",
        "    predicted_label = int(predictions[i])\n",
        "\n",
        "    # Count total test data points per class\n",
        "    test_data_points_per_class[true_label] = test_data_points_per_class.get(true_label, 0) + 1\n",
        "\n",
        "    # Count correct predictions per class\n",
        "    if true_label == predicted_label:\n",
        "        correct_predictions_per_class[true_label] = correct_predictions_per_class.get(true_label, 0) + 1\n",
        "\n",
        "# Output the results\n",
        "print(\"Number of data points in testing set per class:\")\n",
        "for class_label, count in test_data_points_per_class.items():\n",
        "    print(f\"Class {class_label}: {count}\")\n",
        "\n",
        "print(\"\\nNumber of correct predictions made by the classifier for each class:\")\n",
        "for class_label, count in correct_predictions_per_class.items():\n",
        "     print(f\"Class {class_label}: {count} (Accuracy: {count/test_data_points_per_class[class_label]:.2f})\")"
      ],
      "metadata": {
        "colab": {
          "base_uri": "https://localhost:8080/"
        },
        "id": "ba3gqKdofRiC",
        "outputId": "48df2daf-ff49-4010-8dc3-80335dc8b5c6"
      },
      "execution_count": 13,
      "outputs": [
        {
          "output_type": "stream",
          "name": "stdout",
          "text": [
            "Number of data points in testing set per class:\n",
            "Class 2: 9\n",
            "Class 3: 16\n",
            "Class 1: 17\n",
            "\n",
            "Number of correct predictions made by the classifier for each class:\n",
            "Class 2: 8 (Accuracy: 0.89)\n",
            "Class 3: 16 (Accuracy: 1.00)\n",
            "Class 1: 15 (Accuracy: 0.88)\n"
          ]
        }
      ]
    }
  ],
  "metadata": {
    "kernelspec": {
      "display_name": "Python 3",
      "language": "python",
      "name": "python3"
    },
    "language_info": {
      "codemirror_mode": {
        "name": "ipython",
        "version": 3
      },
      "file_extension": ".py",
      "mimetype": "text/x-python",
      "name": "python",
      "nbconvert_exporter": "python",
      "pygments_lexer": "ipython3",
      "version": "3.10.6 (tags/v3.10.6:9c7b4bd, Aug  1 2022, 21:53:49) [MSC v.1932 64 bit (AMD64)]"
    },
    "orig_nbformat": 4,
    "vscode": {
      "interpreter": {
        "hash": "b148fc9bfa8b60132af830e32e1690e4e023b803e92912df15b823b90141dda6"
      }
    },
    "colab": {
      "provenance": []
    }
  },
  "nbformat": 4,
  "nbformat_minor": 0
}