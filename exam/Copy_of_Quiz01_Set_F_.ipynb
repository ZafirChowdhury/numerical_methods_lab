{
  "cells": [
    {
      "cell_type": "markdown",
      "source": [
        "Generate the vector [1024, 243, 32, 1] and then find the quintuple root of each element of the vector using for loop."
      ],
      "metadata": {
        "id": "NRiwRue973rw"
      }
    },
    {
      "cell_type": "code",
      "source": [
        "# Write appropiate code here\n",
        "\n",
        "import numpy as np\n",
        "\n",
        "vector = np.array([1024, 243, 32, 1])\n",
        "quintuple_list = []\n",
        "\n",
        "for i in vector:\n",
        "    quintuple_list.append(i**(1/5))\n",
        "\n",
        "quintuple_vector = np.array(quintuple_list)\n",
        "print(quintuple_vector)"
      ],
      "metadata": {
        "id": "7YblHnXl8umY",
        "colab": {
          "base_uri": "https://localhost:8080/"
        },
        "outputId": "b660cf2c-fff6-4c18-c95b-4439c07fcd63"
      },
      "execution_count": null,
      "outputs": [
        {
          "output_type": "stream",
          "name": "stdout",
          "text": [
            "[4. 3. 2. 1.]\n"
          ]
        }
      ]
    },
    {
      "cell_type": "markdown",
      "metadata": {
        "id": "kDLEv48cWjdm"
      },
      "source": [
        "In this lab, we will explore the Taylor series expansion of a function.  We will use the Taylor series expansion to approximate the value of a function at a point. Also, we will visualize how the order of the Taylor series expansion affects the accuracy of the approximation.\n",
        "\n",
        "#### **Taylor Series Expansion of a Function**\n",
        "The Taylor series expansion of is a representation of the function by an infinite series of polynomials centered at the point.  The Taylor series expansion of a function $f(x)$ is givn eby\n",
        "\n",
        "$$f(x) = \\sum_{n=0}^{\\infty} \\frac{f^{(n)}(a)}{n!}(x-a)^n$$\n",
        "\n",
        "where $f^{(n)}(a)$ is the $n$ th derivative of $f(x)$ evaluated at $a$.\n",
        "\n",
        "##### **Example**\n",
        "Consider the function $f(x) = e^x$ and the point $a = 0$.  The Taylor series expansion of $f(x)$ centered at $a$ is given by\n",
        "\n",
        "$$\n",
        "\\begin{align*}\n",
        "  f(x) &= \\frac{f^{(0)}(a)(x-a)^0}{0!} + \\frac{f^{(1)}(a)(x-a)^1}{1!} + \\frac{f^{(2)}(a)(x-a)^2}{2!} + \\frac{f^{(3)}(a)(x-a)^3}{3!} + \\cdots \\\\\n",
        "  &= \\frac{f^{(0)}(0)(x-0)^0}{0!} + \\frac{f^{(1)}(0)(x-0)^1}{1!} + \\frac{f^{(2)}(0)(x-0)^2}{2!} + \\frac{f^{(3)}(0)(x-0)^3}{3!} + \\cdots \\\\\n",
        "  &= \\frac{1}{0!} + \\frac{x}{1!} + \\frac{x^2}{2!} + \\frac{x^3}{3!} + \\cdots \\\\\n",
        "  &= 1 + x + \\frac{x^2}{2} + \\frac{x^3}{6} + \\cdots\n",
        "\\end{align*}\n",
        "$$\n",
        "\n",
        "The final expression is an infinite series of polynomials.  The first term is the constant term, the second term is the linear term, the third term is the quadratic term, the fourth term is the cubic term, and so on.  The more terms we include in the series, the more accurate the approximation of the function becomes. We will explore this in the next section."
      ]
    },
    {
      "cell_type": "markdown",
      "metadata": {
        "id": "bqO5_8yAWjdo"
      },
      "source": [
        "#### **Approximation using Taylor Series**\n",
        "We can approximate the value of a function at a point by using the Taylor series expansion of the function. We have already seen an example of how to expand a function using the Taylor series expansion.  In this section, we will use the Taylor series expansion to approximate the value of a function at a point.\n",
        "\n",
        "But, the Taylor series expansion is an infinite series and we oviously cannot compute the value of an infinite series. So, we will use the first few terms of the Taylor series expansion to approximate the value of the function at a point. The number of terms we use in the Taylor series expansion is related to the order of the Taylor series expansion.  The order of the Taylor series expansion is one less than the number of terms in the Taylor series expansion.  For example, if we use the first three terms of the Taylor series expansion, the order of the Taylor series expansion is 2.  If we use the first four terms of the Taylor series expansion, the order of the Taylor series expansion is 3.  And so on.\n",
        "\n",
        "Now, we will try to approximate the function $f(x) = e^{-8x}$ at the point $a = 0$ and observe the effect of the order of the Taylor series expansion on the accuracy of the approximation. Follow the steps below to complete the task."
      ]
    },
    {
      "cell_type": "markdown",
      "metadata": {
        "id": "10XCshp5Wjdo"
      },
      "source": [
        "##### **Step 01: Import the required libraries**\n",
        "We will be using the numpy to deal with arrays and the matplotlib to plot the function and its approximation. Import these two libraries in the cell below."
      ]
    },
    {
      "cell_type": "code",
      "execution_count": null,
      "metadata": {
        "id": "AcTkdRVXWjdp"
      },
      "outputs": [],
      "source": [
        "# Write appropiate code here\n",
        "import numpy as np\n",
        "import matplotlib.pyplot as plt\n",
        "import math"
      ]
    },
    {
      "cell_type": "markdown",
      "metadata": {
        "id": "8eKGkzXFWjdp"
      },
      "source": [
        "##### **Step 02: Define the function and its derivative**\n",
        "Write a function that takes $x$ as an argument and returns the value of $f(x)$.  Also, write the following functions that return the value of the first, second, and third derivatives of $f(x)$.\n",
        "\n",
        ">1. `f1(x)`: returns the value of the first derivative of $f(x)$\n",
        ">2. `f2(x)`: returns the value of the second derivative of $f(x)$\n",
        ">3. `f3(x)`: returns the value of the third derivative of $f(x)$\n"
      ]
    },
    {
      "cell_type": "code",
      "execution_count": null,
      "metadata": {
        "id": "1Kg-W4hjWjdq"
      },
      "outputs": [],
      "source": [
        "# Write appropiate code here\n",
        "def f(x):\n",
        "    return np.exp((-8) * x)\n",
        "\n",
        "def f1(x):\n",
        "    return (-8) * np.exp((-8) * x)\n",
        "\n",
        "def f2(x):\n",
        "    return (-8**2) * np.exp((-8) * x)\n",
        "\n",
        "def f3(x):\n",
        "    return (-8**3) * np.exp((-8) * x)"
      ]
    },
    {
      "cell_type": "markdown",
      "metadata": {
        "id": "u6OQmovaWjdq"
      },
      "source": [
        "##### **Step 03: Generalize the derivative functions**\n",
        "The functions `f1(x)`, `f2(x)`and `f3(x)` that you wrote in the previous step are specific to the function $f(x) = e^{-8x}$.  Now, write a generalized function that takes the order of the derivative as an argument and returns the value of the derivative of $f(x)$.\n",
        "\n",
        "> `fn(x, n)`: returns the value of the $n$ th derivative of $f(x)$"
      ]
    },
    {
      "cell_type": "code",
      "execution_count": null,
      "metadata": {
        "id": "DU4MRYKCWjdq"
      },
      "outputs": [],
      "source": [
        "# Write appropiate code here\n",
        "def fn(x, n):\n",
        "    return ((-8)**n) * np.exp((-8) * x)"
      ]
    },
    {
      "cell_type": "markdown",
      "metadata": {
        "id": "NEVDOupNWjdq"
      },
      "source": [
        "##### **Step 04: Define the Taylor series expansion function**\n",
        "Write a function that takes $x$, $a$, and $n$ as arguments and returns the value of the Taylor series expansion of $f(x)$ at $a$ with order $n$.\n",
        "\n",
        "> `taylor(x, a, n)`: returns the value of the Taylor series expansion of $f(x)$ at $a$ using the first $n$ terms of the Taylor series expansion"
      ]
    },
    {
      "cell_type": "code",
      "execution_count": null,
      "metadata": {
        "id": "N6rx3yZLWjdq"
      },
      "outputs": [],
      "source": [
        "# Write appropiate code here\n",
        "def taylor(x, a, n):\n",
        "    sum = 0\n",
        "    for i in range(n+1):\n",
        "        sum += (fn(a, i) * (x - a)**i) / math.factorial(i)\n",
        "\n",
        "    return sum"
      ]
    },
    {
      "cell_type": "markdown",
      "metadata": {
        "id": "Od7uc5j6Wjdq"
      },
      "source": [
        "##### **Step 05: Approximate the value of the function at a point**\n",
        "Using the function `taylor(x, a, n)`, approximate the value of $f(x)$ at $x = 1$ using the first $4$ terms of the Taylor series expansion.  Also, compute the value of $f(x)$ at $x = 1$ using the function `f(x)` that you wrote in the previous step.  Find the absolute difference between the two values to determine the accuracy of the approximation."
      ]
    },
    {
      "cell_type": "code",
      "execution_count": null,
      "metadata": {
        "id": "2ppB9ZDIWjdr",
        "colab": {
          "base_uri": "https://localhost:8080/"
        },
        "outputId": "33cbdf32-4bd6-4384-b510-a45a37852173"
      },
      "outputs": [
        {
          "output_type": "stream",
          "name": "stdout",
          "text": [
            "110.33299787070543\n"
          ]
        }
      ],
      "source": [
        "# Write appropiate code here\n",
        "real_value = f(1)\n",
        "appox_value = taylor(1, 0, 4)\n",
        "\n",
        "abs_diff = abs(real_value - appox_value)\n",
        "print(abs_diff)"
      ]
    },
    {
      "cell_type": "markdown",
      "metadata": {
        "id": "ZrRslgzCWjdr"
      },
      "source": [
        "##### **Step 06: Show the visual difference between the approximation and the actual function**\n",
        "Now, we will see how good the approximation is by plotting the function and the Taylor series expansion of the function at different orders.  Follow the steps below to complete the task.\n",
        "\n",
        ">1. Define a list of values of `x` from $-2$ to $2$ with a step size of $0.1$.\n",
        ">2. Define a list of values of `y` by evaluating the function $f(x)$ at each value of $x$.\n",
        ">3. Define a list of values of `y_app` by evaluating the Taylor series expansion of $f(x)$ at each value of $x$ using the first $n$ terms of the Taylor series expansion starting from $n=1$ to $n=3$.\n",
        ">4. Plot the function $f(x)$ and the Taylor series expansion of $f(x)$ at different orders.  Use the following colors for the plots.\n",
        ">    * $n = 1$: yellow\n",
        ">    * $n = 2$: green\n",
        ">    * $n = 3$: blue\n",
        "\n",
        ">5. Add a legend to the plot.\n",
        ">6. Add labels to the $x$ and $y$ axes.\n",
        ">7. Add a title to the plot.\n",
        "\n",
        "See the effect of the order of the Taylor series expansion on the accuracy of the approximation.  The more terms we include in the Taylor series expansion, the more accurate the approximation becomes.  But, the more terms we include in the Taylor series expansion, the more complex the Taylor series expansion becomes.  So, we need to find a balance between the accuracy of the approximation and the complexity of the Taylor series expansion."
      ]
    },
    {
      "cell_type": "code",
      "execution_count": null,
      "metadata": {
        "id": "e5nQhB4aWjdr",
        "colab": {
          "base_uri": "https://localhost:8080/",
          "height": 472
        },
        "outputId": "f80988c8-eff8-4d13-cc64-90f7901c38c0"
      },
      "outputs": [
        {
          "output_type": "display_data",
          "data": {
            "text/plain": [
              "<Figure size 640x480 with 1 Axes>"
            ],
            "image/png": "[encoded data removed]"
          },
          "metadata": {}
        }
      ],
      "source": [
        "# Write appropiate code here\n",
        "x = np.arange(-2, 2, 0.1)\n",
        "a = 0\n",
        "\n",
        "real_y = f(x)\n",
        "y_app_1 = taylor(x, a, 1)\n",
        "y_app_2 = taylor(x, a, 2)\n",
        "y_app_3 = taylor(x, a, 3)\n",
        "\n",
        "plt.title(\"Taylor Series Approximation\")\n",
        "plt.plot(x, real_y, label = 'f(x)')\n",
        "plt.plot(x, y_app_1, label = '1st order', color = 'yellow')\n",
        "plt.plot(x, y_app_2, label = '2nd order', color = 'green')\n",
        "plt.plot(x, y_app_3, label = '3rd order', color = 'blue')\n",
        "\n",
        "plt.legend()\n",
        "plt.xlabel('x')\n",
        "plt.ylabel('f(x) = exp((-8) * x))')\n",
        "plt.show()"
      ]
    }
  ],
  "metadata": {
    "kernelspec": {
      "display_name": "Python 3",
      "language": "python",
      "name": "python3"
    },
    "language_info": {
      "codemirror_mode": {
        "name": "ipython",
        "version": 3
      },
      "file_extension": ".py",
      "mimetype": "text/x-python",
      "name": "python",
      "nbconvert_exporter": "python",
      "pygments_lexer": "ipython3",
      "version": "3.10.6 (tags/v3.10.6:9c7b4bd, Aug  1 2022, 21:53:49) [MSC v.1932 64 bit (AMD64)]"
    },
    "orig_nbformat": 4,
    "vscode": {
      "interpreter": {
        "hash": "b148fc9bfa8b60132af830e32e1690e4e023b803e92912df15b823b90141dda6"
      }
    },
    "colab": {
      "provenance": []
    }
  },
  "nbformat": 4,
  "nbformat_minor": 0
}