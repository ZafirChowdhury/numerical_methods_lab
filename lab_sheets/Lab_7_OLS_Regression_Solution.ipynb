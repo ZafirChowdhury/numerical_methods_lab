{
  "cells": [
    {
      "cell_type": "markdown",
      "metadata": {
        "id": "qu8-4GGd0t4n"
      },
      "source": [
        "#### **Problem Statement:**\n",
        "In this experiment we will do Ordinary least squares (multiple) regression for the prediction of Graduate Admissions from an Indian/Bangladeshi perspective. The dataset can be obtained from\n",
        "[Piazza](https://piazza.com/class_profile/get_resource/ku1fdd7zhev3r2/kwaz7m8lx5a52k) and [Kaggle](https://www.kaggle.com/mohansacharya/graduate-admissions). The dataset (Admission_Predict.csv) containss even features arranged into columns in a CSV file. There are 400 sample datapoints. The features are as follows:\n",
        "1. GRE Scores (out of 340)\n",
        "2. TOEFL Scores (out of 120)\n",
        "3. University Rating (out of 5)\n",
        "4. Statement of Purpose and Letter of Recommendation Strength (out of 5)\n",
        "5. Undergraduate GPA (out of 10)\n",
        "6. Research Experience (either 0 or 1)\n",
        "7. Chance of Admit (ranging from 0 to 1)\n",
        "\n",
        "The first column of the dataset contains a serial number, and the final column provide the probability of getting admission, i.e. the target output for each datapoint.We will be using the dataset to create a linear regression model in order to determine the chances of admission of a new sample student, and to assess how well our model works in making a useful forecast."
      ]
    },
    {
      "cell_type": "markdown",
      "metadata": {
        "id": "UTFGVQAzylcJ"
      },
      "source": [
        "#### **1. Import necessary packages:**"
      ]
    },
    {
      "cell_type": "code",
      "execution_count": null,
      "metadata": {
        "id": "7NN7iMIsx7Ds"
      },
      "outputs": [],
      "source": [
        "import pandas as pd\n",
        "import numpy as np\n",
        "import matplotlib.pyplot as plt"
      ]
    },
    {
      "cell_type": "markdown",
      "metadata": {
        "id": "PBoPBBely2V1"
      },
      "source": [
        "#### **2. Upload and load dataset:**\n",
        "At first we have to upload the dataset to google colab to start working with it. Please download the **\"Admission_Predict.csv\"** dataset from piazza resourse or [click here](https://piazza.com/class_profile/get_resource/ku1fdd7zhev3r2/kwaz7m8lx5a52k) to download it. Then click on files form sidebar, drag and drop your file to side bar to upload the dataset.\n",
        "\n",
        "Now, use `data = pd.read_csv(\"Admission_Predict.csv\")` to load the data."
      ]
    },
    {
      "cell_type": "code",
      "execution_count": null,
      "metadata": {
        "id": "rFjyg4jY16zN"
      },
      "outputs": [],
      "source": [
        "data = pd.read_csv('Admission_Predict.csv')"
      ]
    },
    {
      "cell_type": "markdown",
      "metadata": {
        "id": "VCFQyd4_2QWo"
      },
      "source": [
        "#### **3. Preprocess the Data:**\n",
        "* To visualize the loaded data use `print(data.head())`.\n",
        "* Now, after visualizing the data did you observe we have an extra column named `Serial No.`?\n",
        "* This certainly is not a feature, so we will drop this column. Use `data.drop('Serial No.', axis=1, inplace=True)` to drop the column.\n",
        "* See the column `'Chance of Admit'` is also not a feature rather it is our target.\n",
        "  * We will store it in a seperate variable `y` using `y = data['Chance of Admit ']`.\n",
        "  * Convert `y` to numpy array using `y = y.values`\n",
        "  * Dorp the column from `data` using `data.drop('Chance of Admit ', axis=1, inplace=True)`\n",
        "* In `data` we are left with all 7 features. Covert it to numpy array and store in a new variable `X` using `X = data.values`. So, `X` is the matrix of feature columns, each column in `X` will be the feature vectors.\n",
        "\n",
        "☢ Note: Be careful about the space after the column name `'Chance of Admit '`."
      ]
    },
    {
      "cell_type": "code",
      "execution_count": null,
      "metadata": {
        "colab": {
          "base_uri": "https://localhost:8080/"
        },
        "id": "_ZR3EWYt2Pfu",
        "outputId": "1d3b8448-77dc-4eb6-bf93-85eb93a0e74c"
      },
      "outputs": [
        {
          "name": "stdout",
          "output_type": "stream",
          "text": [
            "   Serial No.  GRE Score  TOEFL Score  ...  CGPA  Research  Chance of Admit \n",
            "0           1        337          118  ...  9.65         1              0.92\n",
            "1           2        324          107  ...  8.87         1              0.76\n",
            "2           3        316          104  ...  8.00         1              0.72\n",
            "3           4        322          110  ...  8.67         1              0.80\n",
            "4           5        314          103  ...  8.21         0              0.65\n",
            "\n",
            "[5 rows x 9 columns]\n",
            "   GRE Score  TOEFL Score  University Rating  ...  CGPA  Research  Chance of Admit \n",
            "0        337          118                  4  ...  9.65         1              0.92\n",
            "1        324          107                  4  ...  8.87         1              0.76\n",
            "2        316          104                  3  ...  8.00         1              0.72\n",
            "3        322          110                  3  ...  8.67         1              0.80\n",
            "4        314          103                  2  ...  8.21         0              0.65\n",
            "\n",
            "[5 rows x 8 columns]\n",
            "(400,)\n",
            "   GRE Score  TOEFL Score  University Rating  SOP  LOR   CGPA  Research\n",
            "0        337          118                  4  4.5   4.5  9.65         1\n",
            "1        324          107                  4  4.0   4.5  8.87         1\n",
            "2        316          104                  3  3.0   3.5  8.00         1\n",
            "3        322          110                  3  3.5   2.5  8.67         1\n",
            "4        314          103                  2  2.0   3.0  8.21         0\n",
            "(400, 7)\n"
          ]
        }
      ],
      "source": [
        "print(data.head())\n",
        "\n",
        "data.drop('Serial No.', axis=1, inplace=True)\n",
        "print(data.head())\n",
        "\n",
        "y = data['Chance of Admit ']\n",
        "y = y.values\n",
        "print(y.shape)\n",
        "\n",
        "data.drop('Chance of Admit ', axis=1, inplace=True)\n",
        "print(data.head())\n",
        "\n",
        "X = data.values\n",
        "print(X.shape)"
      ]
    },
    {
      "cell_type": "markdown",
      "metadata": {
        "id": "fb7WgQrc-bKw"
      },
      "source": [
        "#### **4. Add a ones column vector to X:**\n",
        "Add a new column cosisting ones as $0^{th}$ column to X. Saw the [numpy documentation](https://numpy.org/doc/stable/reference/generated/numpy.c_.html) for more details. Devide data X and y into x_train, x_test, y_train and y_test. Train dataset will contains 300 datapoints and test dataset will contains 100 datapoint."
      ]
    },
    {
      "cell_type": "code",
      "execution_count": null,
      "metadata": {
        "colab": {
          "base_uri": "https://localhost:8080/"
        },
        "id": "bF7VdVQV-nhF",
        "outputId": "9aeb174f-3e96-4139-8c0b-6cf2a9ab15d2"
      },
      "outputs": [
        {
          "name": "stdout",
          "output_type": "stream",
          "text": [
            "[[  1.   337.   118.   ...   4.5    9.65   1.  ]\n",
            " [  1.   324.   107.   ...   4.5    8.87   1.  ]\n",
            " [  1.   316.   104.   ...   3.5    8.     1.  ]\n",
            " ...\n",
            " [  1.   330.   116.   ...   4.5    9.45   1.  ]\n",
            " [  1.   312.   103.   ...   4.     8.78   0.  ]\n",
            " [  1.   333.   117.   ...   4.     9.66   1.  ]]\n",
            "(300, 8)\n",
            "(100, 8)\n"
          ]
        }
      ],
      "source": [
        "X = np.c_[np.ones(X.shape[0]), X]\n",
        "print(X)\n",
        "\n",
        "x_train = X[:300]\n",
        "x_test = X[300:]\n",
        "y_train = y[:300]\n",
        "y_test = y[300:]\n",
        "\n",
        "print(x_train.shape)\n",
        "print(x_test.shape)"
      ]
    },
    {
      "cell_type": "markdown",
      "metadata": {
        "id": "zRuxuheJBZjZ"
      },
      "source": [
        "#### **5. Solve the system of equation:**\n",
        "Solve the system of equations $(Xβ = y)$ to find the values of the $β$ vector $(β_0, β_1, β_2, \\ldots, β_n)$. You can find $β$ using $β = X^† y = (X^T X)^{−1} X^T y = R^{−1} Q^T y$. There is also a numpy function to calculate the psuedo inverse: `np.linalg.pinv()`, saw the [numpy documentation](https://numpy.org/doc/stable/reference/generated/numpy.linalg.pinv.html) for more details. Use `x_train` and `y_train` as dataset."
      ]
    },
    {
      "cell_type": "code",
      "execution_count": null,
      "metadata": {
        "colab": {
          "base_uri": "https://localhost:8080/",
          "height": 211
        },
        "id": "Cq0xGcwECkJg",
        "outputId": "bd4d7c56-d759-48d7-c95d-f62c9278da5f"
      },
      "outputs": [
        {
          "output_type": "error",
          "ename": "NameError",
          "evalue": "name 'np' is not defined",
          "traceback": [
            "\u001b[0;31m---------------------------------------------------------------------------\u001b[0m",
            "\u001b[0;31mNameError\u001b[0m                                 Traceback (most recent call last)",
            "\u001b[0;32m<ipython-input-1-e4ba22f0ac7c>\u001b[0m in \u001b[0;36m<cell line: 0>\u001b[0;34m()\u001b[0m\n\u001b[0;32m----> 1\u001b[0;31m \u001b[0mR\u001b[0m \u001b[0;34m=\u001b[0m \u001b[0mnp\u001b[0m\u001b[0;34m.\u001b[0m\u001b[0mmatmul\u001b[0m\u001b[0;34m(\u001b[0m\u001b[0mnp\u001b[0m\u001b[0;34m.\u001b[0m\u001b[0mtranspose\u001b[0m\u001b[0;34m(\u001b[0m\u001b[0mx_train\u001b[0m\u001b[0;34m)\u001b[0m\u001b[0;34m,\u001b[0m \u001b[0mx_train\u001b[0m\u001b[0;34m)\u001b[0m\u001b[0;34m\u001b[0m\u001b[0;34m\u001b[0m\u001b[0m\n\u001b[0m\u001b[1;32m      2\u001b[0m \u001b[0mR_INV\u001b[0m \u001b[0;34m=\u001b[0m \u001b[0mnp\u001b[0m\u001b[0;34m.\u001b[0m\u001b[0mlinalg\u001b[0m\u001b[0;34m.\u001b[0m\u001b[0minv\u001b[0m\u001b[0;34m(\u001b[0m\u001b[0mR\u001b[0m\u001b[0;34m)\u001b[0m\u001b[0;34m\u001b[0m\u001b[0;34m\u001b[0m\u001b[0m\n\u001b[1;32m      3\u001b[0m \u001b[0;34m\u001b[0m\u001b[0m\n\u001b[1;32m      4\u001b[0m \u001b[0mQ\u001b[0m \u001b[0;34m=\u001b[0m \u001b[0mx_train\u001b[0m\u001b[0;34m\u001b[0m\u001b[0;34m\u001b[0m\u001b[0m\n\u001b[1;32m      5\u001b[0m \u001b[0mQ_T\u001b[0m \u001b[0;34m=\u001b[0m \u001b[0mnp\u001b[0m\u001b[0;34m.\u001b[0m\u001b[0mtranspose\u001b[0m\u001b[0;34m(\u001b[0m\u001b[0mQ\u001b[0m\u001b[0;34m)\u001b[0m\u001b[0;34m\u001b[0m\u001b[0;34m\u001b[0m\u001b[0m\n",
            "\u001b[0;31mNameError\u001b[0m: name 'np' is not defined"
          ]
        }
      ],
      "source": [
        "R = np.matmul(np.transpose(x_train), x_train)\n",
        "R_INV = np.linalg.inv(R)\n",
        "\n",
        "Q = x_train\n",
        "Q_T = np.transpose(Q)\n",
        "\n",
        "beta = np.matmul(R_INV, Q_T).dot(y_train)\n",
        "\n",
        "#beta = np.linalg.pinv(x_train).dot(y_train)\n",
        "\n",
        "print(beta)"
      ]
    },
    {
      "cell_type": "markdown",
      "metadata": {
        "id": "rZ-2uCWUFnZN"
      },
      "source": [
        "#### **6. Find predicted chance of admit:**\n",
        "Find the predicted chance of admit $\\hat y$, by multiplying $X * β$. For prediction use `x_test` as dataset."
      ]
    },
    {
      "cell_type": "code",
      "execution_count": null,
      "metadata": {
        "colab": {
          "base_uri": "https://localhost:8080/"
        },
        "id": "_CUbOOGeGX9S",
        "outputId": "c79f53b0-2775-4a0f-f3bc-1f83b75acad2"
      },
      "outputs": [
        {
          "name": "stdout",
          "output_type": "stream",
          "text": [
            "(100,)\n"
          ]
        }
      ],
      "source": [
        "y_hat = x_test.dot(beta)\n",
        "print(y_hat.shape)"
      ]
    },
    {
      "cell_type": "markdown",
      "metadata": {
        "id": "-XSa1mXOGw9-"
      },
      "source": [
        "#### **7. Find the error vector e:**\n",
        "Find the error vector, $e$, by subtracting $\\hat y$ from `y_test`."
      ]
    },
    {
      "cell_type": "code",
      "execution_count": null,
      "metadata": {
        "id": "PIGN2JfNGwU_"
      },
      "outputs": [],
      "source": [
        "e = y_hat-y_test"
      ]
    },
    {
      "cell_type": "markdown",
      "metadata": {
        "id": "uiGRMarpHNHn"
      },
      "source": [
        "#### **8. Compute the $r^2$ value:**\n",
        "Recall that, $r^2 = 1 - SSE / SST$, where $SSE$ is the sum of squared errors: $e^Te$ and $SST = \\text{Total sum of squares : } (\\text{y_test} - avg(\\text{y_test}))^T(\\text{y_test} - avg(\\text{y_test}))$"
      ]
    },
    {
      "cell_type": "code",
      "execution_count": null,
      "metadata": {
        "colab": {
          "base_uri": "https://localhost:8080/"
        },
        "id": "sRduN3A8H3bz",
        "outputId": "cdd18bf5-ee36-430a-ff14-be2297a996f5"
      },
      "outputs": [
        {
          "name": "stdout",
          "output_type": "stream",
          "text": [
            "0.8111013034095552\n"
          ]
        }
      ],
      "source": [
        "SSE = np.dot(e, e)\n",
        "\n",
        "avg_y_test = np.dot(np.ones(y_test.size), y_test)/y_test.size\n",
        "SST = np.dot((y_test - avg_y_test), (y_test - avg_y_test))\n",
        "\n",
        "r_squared = 1 - SSE/SST\n",
        "\n",
        "print(r_squared)"
      ]
    },
    {
      "cell_type": "markdown",
      "metadata": {
        "id": "qao9EbhKIsYS"
      },
      "source": [
        "#### **9. Plot the vectors $y$, $\\hat y$, and $e$:**\n",
        "Plot the vectors $\\text{y_test}$, $\\hat y$, and $e$, and make suitable observations. Use different color for three vectors while ploting."
      ]
    },
    {
      "cell_type": "code",
      "execution_count": null,
      "metadata": {
        "colab": {
          "base_uri": "https://localhost:8080/",
          "height": 413
        },
        "id": "mH9QI_5gJDUn",
        "outputId": "d86ff40c-0218-487c-85f5-0b214913cf0e"
      },
      "outputs": [
        {
          "data": {
            "image/png": "[encoded data removed]",
            "text/plain": [
              "<Figure size 640x480 with 1 Axes>"
            ]
          },
          "metadata": {
            "needs_background": "light"
          },
          "output_type": "display_data"
        }
      ],
      "source": [
        "plt.figure(figsize=(8, 6), dpi=80)\n",
        "plt.plot(np.arange(len(y_test)), y_test, color='orange')\n",
        "plt.plot(np.arange(len(y_test)), y_hat, color='green')\n",
        "plt.plot(np.arange(len(y_test)), e, color='blue')\n",
        "plt.show()"
      ]
    },
    {
      "cell_type": "markdown",
      "metadata": {
        "id": "M9VQwKy1UbG9"
      },
      "source": [
        "#### **10. Test with new data:**\n",
        "Introduce a new sample student with your own data, and find where they fall."
      ]
    },
    {
      "cell_type": "code",
      "execution_count": null,
      "metadata": {
        "colab": {
          "base_uri": "https://localhost:8080/"
        },
        "id": "C0bu2bRrYXPP",
        "outputId": "98b2ddf3-d51c-4587-dd62-76754f9b9d8e"
      },
      "outputs": [
        {
          "name": "stdout",
          "output_type": "stream",
          "text": [
            "[0.92181168 0.58459596 0.68223454]\n"
          ]
        }
      ],
      "source": [
        "new_X = np.array([[1., 315., 117., 4.5, 3., 4.5, 9.67, 1.],\n",
        "                  [1., 300., 100., 3.5, 3., 3.5, 7.75, 1.],\n",
        "                  [1., 309., 102., 4., 3.5, 4., 8.43, 0.]])\n",
        "\n",
        "new_y = new_X.dot(beta)\n",
        "print(new_y)"
      ]
    }
  ],
  "metadata": {
    "colab": {
      "provenance": []
    },
    "kernelspec": {
      "display_name": "Python 3",
      "language": "python",
      "name": "python3"
    },
    "language_info": {
      "name": "python",
      "version": "3.10.6 (tags/v3.10.6:9c7b4bd, Aug  1 2022, 21:53:49) [MSC v.1932 64 bit (AMD64)]"
    },
    "vscode": {
      "interpreter": {
        "hash": "b148fc9bfa8b60132af830e32e1690e4e023b803e92912df15b823b90141dda6"
      }
    }
  },
  "nbformat": 4,
  "nbformat_minor": 0
}